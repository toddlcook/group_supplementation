{
 "cells": [
  {
   "cell_type": "code",
   "execution_count": 1,
   "id": "e901a575",
   "metadata": {},
   "outputs": [],
   "source": [
    "# Importing modules\n",
    "from astropy.io import fits\n",
    "import matplotlib.pylab as plt\n",
    "import numpy as np\n",
    "from astropy.cosmology import Planck13\n",
    "cosmo=Planck13\n",
    "from astropy . coordinates import Distance\n",
    "from astropy import units as u\n",
    "from astropy.table import Table\n",
    "import pandas as pd\n",
    "from scipy.optimize import curve_fit\n",
    "from mpl_toolkits.axes_grid1 import make_axes_locatable\n",
    "from tqdm.notebook import tqdm\n",
    "import random\n",
    "import matplotlib\n",
    "import os"
   ]
  },
  {
   "cell_type": "code",
   "execution_count": 2,
   "id": "907f5839",
   "metadata": {},
   "outputs": [],
   "source": [
    "# Pandas display options (personal preference)\n",
    "pd.set_option('display.max_columns', None)\n",
    "pd.set_option('display.max_rows', 10)"
   ]
  },
  {
   "cell_type": "code",
   "execution_count": 3,
   "id": "b4f17641",
   "metadata": {},
   "outputs": [],
   "source": [
    "# Matplotlib options\n",
    "plt.rcParams['xtick.top'] = 'True'\n",
    "plt.rcParams['ytick.right'] = 'True'\n",
    "plt.rcParams['xtick.direction'] = 'in'\n",
    "plt.rcParams['ytick.direction'] = 'in'\n",
    "plt.rcParams['xtick.major.size'] = 6\n",
    "plt.rcParams['xtick.minor.size'] = 3\n",
    "plt.rcParams['ytick.major.size'] = 6\n",
    "plt.rcParams['xtick.minor.visible'] = 'True'\n",
    "plt.rcParams['ytick.minor.size'] = 3\n",
    "plt.rcParams['ytick.minor.visible'] = 'True'\n",
    "plt.rcParams['axes.linewidth'] = 1.2\n",
    "\n",
    "plt.rcParams['figure.figsize'] = [10,8]\n",
    "font = {'size'   : 20}\n",
    "plt.rc('font', **font)"
   ]
  },
  {
   "cell_type": "code",
   "execution_count": 4,
   "id": "c19c6236",
   "metadata": {},
   "outputs": [],
   "source": [
    "# Reading in GAMA input catalogue data from the equatorial regions\n",
    "df=pd.read_csv('../GAMA_supplementation/G09_G12_G15_r21.csv')"
   ]
  },
  {
   "cell_type": "code",
   "execution_count": 5,
   "id": "cb95e771",
   "metadata": {},
   "outputs": [],
   "source": [
    "df=df.set_index('uberID')"
   ]
  },
  {
   "cell_type": "code",
   "execution_count": 6,
   "id": "56da3035",
   "metadata": {},
   "outputs": [],
   "source": [
    "df['mag_rt']=8.9-2.5*np.log10(df['flux_rt'])"
   ]
  },
  {
   "cell_type": "code",
   "execution_count": 7,
   "id": "f09ed502",
   "metadata": {},
   "outputs": [],
   "source": [
    "# Importing galaxies from the GAMA group catalogue\n",
    "hdul = fits.open('../GAMA_supplementation/G3CGalv10.fits')\n",
    "data = hdul[1].data\n",
    "t=Table(data)\n",
    "names = [name for name in t.colnames if len(t[name].shape) <= 1]\n",
    "df_gals=t[names].to_pandas()"
   ]
  },
  {
   "cell_type": "code",
   "execution_count": 8,
   "id": "2c328c27",
   "metadata": {},
   "outputs": [],
   "source": [
    "df_gals=df_gals.set_index('CATAID')"
   ]
  },
  {
   "cell_type": "code",
   "execution_count": 9,
   "id": "71668dc8",
   "metadata": {},
   "outputs": [
    {
     "data": {
      "image/png": "[encoded data removed]",
      "text/plain": [
       "<Figure size 720x576 with 1 Axes>"
      ]
     },
     "metadata": {
      "needs_background": "light"
     },
     "output_type": "display_data"
    }
   ],
   "source": [
    "plt.scatter(df_gals['RA'],df_gals['Dec'])\n",
    "plt.axis('equal')\n",
    "plt.xlabel('RA')\n",
    "plt.ylabel('Dec')\n",
    "plt.show()"
   ]
  },
  {
   "cell_type": "code",
   "execution_count": 10,
   "id": "3a08679e",
   "metadata": {},
   "outputs": [],
   "source": [
    "# Removing the G02 region of GAMA \n",
    "df_gals=df_gals[df_gals['RA']>100]"
   ]
  },
  {
   "cell_type": "code",
   "execution_count": 11,
   "id": "738a67fb",
   "metadata": {},
   "outputs": [],
   "source": [
    "# Crossmatching GAMA input catalogue with spec galaxies\n",
    "from astropy.coordinates import SkyCoord\n",
    "import astropy.units as u\n",
    "\n",
    "max_sep=1*u.arcsec\n",
    "parent = SkyCoord(ra=df['RAmax'].values*u.degree, dec=df['Decmax'].values*u.degree)\n",
    "gama = SkyCoord(ra=df_gals['RA'].values*u.degree, dec=df_gals['Dec'].values*u.degree)\n",
    "idx, d2d, d3d = parent.match_to_catalog_sky(gama)\n",
    "sep_constraint = d2d < max_sep\n",
    "parent_matches=df.iloc[sep_constraint]\n",
    "gama_matches=df_gals.iloc[idx[sep_constraint]]"
   ]
  },
  {
   "cell_type": "code",
   "execution_count": 12,
   "id": "27d4dc85",
   "metadata": {},
   "outputs": [],
   "source": [
    "# Removing the spectroscopic galaxies from the photometric catalogue\n",
    "df=df.drop(parent_matches.index)"
   ]
  },
  {
   "cell_type": "code",
   "execution_count": 13,
   "id": "4fdcd055",
   "metadata": {},
   "outputs": [],
   "source": [
    "#df_gals=df_gals.loc[gama_matches.index]"
   ]
  },
  {
   "cell_type": "code",
   "execution_count": 14,
   "id": "81663812",
   "metadata": {},
   "outputs": [],
   "source": [
    "#df_gals['mag_rt']=parent_matches['mag_rt'].values"
   ]
  },
  {
   "cell_type": "code",
   "execution_count": 15,
   "id": "9502e0ed",
   "metadata": {},
   "outputs": [],
   "source": [
    "# Reading in GAMA groups\n",
    "dfHalo=pd.read_csv('../GAMA_supplementation/GAMA_groups.csv')"
   ]
  },
  {
   "cell_type": "code",
   "execution_count": 16,
   "id": "53da9123",
   "metadata": {},
   "outputs": [],
   "source": [
    "dfHalo=dfHalo.set_index('GroupID')"
   ]
  },
  {
   "cell_type": "code",
   "execution_count": 17,
   "id": "713cbdc3",
   "metadata": {},
   "outputs": [],
   "source": [
    "dfHalo['Z']=dfHalo['IterCenZ']\n",
    "dfHalo['RA']=dfHalo['IterCenRA']\n",
    "dfHalo['Dec']=dfHalo['IterCenDec']"
   ]
  },
  {
   "cell_type": "code",
   "execution_count": 18,
   "id": "946f1784",
   "metadata": {},
   "outputs": [],
   "source": [
    "# Removing G02\n",
    "dfHalo=dfHalo[(dfHalo['RA']>100)]\n",
    "df_gals=df_gals[(df_gals['RA']>100)]"
   ]
  },
  {
   "cell_type": "code",
   "execution_count": 19,
   "id": "74b5a1ee",
   "metadata": {},
   "outputs": [],
   "source": [
    "H0 = cosmo.H(0)\n",
    "h=H0.value/100"
   ]
  },
  {
   "cell_type": "code",
   "execution_count": 20,
   "id": "8c40e3be",
   "metadata": {},
   "outputs": [],
   "source": [
    "dfHalo['LumDistance'] = cosmo.luminosity_distance(np.array(dfHalo['Z'])).value * h * 1e6\n",
    "df_gals['LumDistance'] = cosmo.luminosity_distance(np.array(df_gals['Z'])).value  * h * 1e6"
   ]
  },
  {
   "cell_type": "code",
   "execution_count": 21,
   "id": "f2b48a48",
   "metadata": {},
   "outputs": [],
   "source": [
    "# Magnitude to luminosity conversion\n",
    "def lumconv(mag):\n",
    "    return  10**(0.4 *(4.67- mag))\n",
    "\n",
    "# Luminosity to halo mass conversion \n",
    "def massconv(lum):\n",
    "    return 1e14 * h**-1 * (0.81) * (lum/(10**11.5))**(1.01)"
   ]
  },
  {
   "cell_type": "code",
   "execution_count": 22,
   "id": "50be894d",
   "metadata": {},
   "outputs": [],
   "source": [
    "# K corrections\n",
    "a = [0.2085, 1.0226, 0.5237, 3.5902, 2.3843]\n",
    "zref = 0\n",
    "Q0 = 1.75\n",
    "zp = 0.2\n",
    "\n",
    "\n",
    "def kcorr(z):\n",
    "    k=0\n",
    "    for i in range(len(a)):\n",
    "        k+= (a[i] * (z - zp)**i)\n",
    "\n",
    "    return k - (Q0 * (z-zref))\n",
    "\n",
    "\n",
    "df_gals['Kcorr'] = df_gals['Z'].apply(kcorr)"
   ]
  },
  {
   "cell_type": "code",
   "execution_count": 23,
   "id": "04084cae",
   "metadata": {},
   "outputs": [],
   "source": [
    "# Finding luminosity of GAMA galaxies\n",
    "df_gals['AbMag'] = df_gals['Rpetro']-5*np.log10(df_gals['LumDistance'])+5 - df_gals['Kcorr']\n",
    "df_gals['lum']=lumconv(df_gals['AbMag'])"
   ]
  },
  {
   "cell_type": "code",
   "execution_count": 24,
   "id": "f399f1ea",
   "metadata": {},
   "outputs": [
    {
     "data": {
      "application/vnd.jupyter.widget-view+json": {
       "model_id": "1098c35f54c7467fa89832ec9889febd",
       "version_major": 2,
       "version_minor": 0
      },
      "text/plain": [
       "  0%|          | 0/23654 [00:00<?, ?it/s]"
      ]
     },
     "metadata": {},
     "output_type": "display_data"
    }
   ],
   "source": [
    "# Summing the luminosity of group members\n",
    "lum19_raw_arr=[]\n",
    "for halo in tqdm(dfHalo.index):\n",
    "    lum19_raw_arr.append(sum(df_gals[df_gals['GroupID']==halo]['lum']))"
   ]
  },
  {
   "cell_type": "code",
   "execution_count": 25,
   "id": "6292e067",
   "metadata": {},
   "outputs": [],
   "source": [
    "dfHalo['lum19raw']=lum19_raw_arr"
   ]
  },
  {
   "cell_type": "code",
   "execution_count": 26,
   "id": "32baa4f6",
   "metadata": {},
   "outputs": [
    {
     "data": {
      "application/vnd.jupyter.widget-view+json": {
       "model_id": "a01491ab0acd4511ab1f427ef96fd23f",
       "version_major": 2,
       "version_minor": 0
      },
      "text/plain": [
       "  0%|          | 0/23654 [00:00<?, ?it/s]"
      ]
     },
     "metadata": {},
     "output_type": "display_data"
    }
   ],
   "source": [
    "# Finding the r<19.8 and r<21 luminosity extrapolation factor\n",
    "\n",
    "z_arr=np.linspace(0,0.6,1000)\n",
    "distance_arr=cosmo.luminosity_distance(np.linspace(0,0.6,1000)).value * h * 1e6\n",
    "\n",
    "def find_nearest(array, value):\n",
    "    array = np.asarray(array)\n",
    "    idx = (np.abs(array - value)).argmin()\n",
    "    return idx\n",
    "\n",
    "def mlim19(distance):\n",
    "    idx=find_nearest(distance_arr,distance)\n",
    "    nearest_z=z_arr[idx]\n",
    "    return 19.8 - 5*np.log10(distance) + 5 - kcorr(nearest_z)\n",
    "\n",
    "def mlim21(distance):\n",
    "    idx=find_nearest(distance_arr,distance)\n",
    "    nearest_z=z_arr[idx]\n",
    "    return 21 - 5*np.log10(distance) + 5 - kcorr(nearest_z)\n",
    "\n",
    "\n",
    "def sch(M,M_star,alpha,phi):\n",
    "    return 0.4 * np.log(10) * phi * (10**(0.4*(M_star - M)*(alpha+1))) * np.exp(-10**(0.4*(M_star - M)))\n",
    "\n",
    "\n",
    "alpha=-1.26\n",
    "M_star=-20.71\n",
    "phi_star=10**-2.02\n",
    "\n",
    "\n",
    "from scipy import integrate\n",
    "\n",
    "def lumest(M,M_star,alpha,phi):\n",
    "    return 10**(-0.4*M) * sch(M, M_star, alpha, phi)\n",
    "\n",
    "num = integrate.quad(lumest,-30,-14,args=(M_star,alpha,phi_star))[0]\n",
    "\n",
    "Lumfacarr19=[]\n",
    "Lumfacarr21=[]\n",
    "\n",
    "for i in tqdm(dfHalo.index):\n",
    "    Lumfacarr19.append(num / integrate.quad(lumest,-30,mlim19(dfHalo['LumDistance'][i]),args=(M_star,alpha,phi_star))[0])\n",
    "    Lumfacarr21.append(num / integrate.quad(lumest,-30,mlim21(dfHalo['LumDistance'][i]),args=(M_star,alpha,phi_star))[0])\n",
    "\n",
    "    \n",
    "dfHalo['Lumfac19'] = Lumfacarr19\n",
    "dfHalo['Lumfac21'] = Lumfacarr21\n",
    "\n"
   ]
  },
  {
   "cell_type": "code",
   "execution_count": 27,
   "id": "e61e4f27",
   "metadata": {},
   "outputs": [],
   "source": [
    "# Total luminosity as the raw luminosity of group members multiplied by extrapolation factor\n",
    "dfHalo['lum19']=dfHalo['lum19raw'] * dfHalo['Lumfac19']"
   ]
  },
  {
   "cell_type": "code",
   "execution_count": 28,
   "id": "2e22d2a2",
   "metadata": {},
   "outputs": [],
   "source": [
    "# Luminosity to mass\n",
    "dfHalo['mass19']=massconv(dfHalo['LumB'])"
   ]
  },
  {
   "cell_type": "code",
   "execution_count": 30,
   "id": "f311bd95",
   "metadata": {},
   "outputs": [
    {
     "data": {
      "image/png": "[encoded data removed]",
      "text/plain": [
       "<Figure size 720x576 with 1 Axes>"
      ]
     },
     "metadata": {
      "needs_background": "light"
     },
     "output_type": "display_data"
    }
   ],
   "source": [
    "# Comparing the dynamical mass of groups to the luminosity mass\n",
    "\n",
    "sample=dfHalo[(dfHalo['Nfof']>4) & (dfHalo['MassAfunc']>0) & (dfHalo['mass19']>0)]\n",
    "\n",
    "plt.scatter(sample['MassAfunc'],sample['mass19'],c=sample['Z'])\n",
    "plt.plot([1e8,1e16],[1e8,1e16],c='k',linestyle='dashed')\n",
    "plt.plot([1e8,1e16],[1e8,1e16],c='k',linestyle='dashed')\n",
    "plt.plot([1e8,1e15],[1e9,1e16],c='k',linestyle='dashed')\n",
    "plt.plot([1e9,1e16],[1e8,1e15],c='k',linestyle='dashed')\n",
    "plt.xlim(1e12,1e15)\n",
    "plt.ylim(1e12,1e15)\n",
    "plt.xlabel('Dynamical Mass[$h^{-1} \\mathrm{M_\\odot}$]')\n",
    "plt.ylabel('Luminosity Mass [$h^{-1} \\mathrm{M_\\odot}$]')\n",
    "plt.gca().set_aspect('equal')\n",
    "plt.xscale('log')\n",
    "plt.yscale('log')\n",
    "plt.title('GAMA')\n",
    "plt.show()\n",
    "plt.show()"
   ]
  },
  {
   "cell_type": "code",
   "execution_count": 33,
   "id": "e78f7a5f",
   "metadata": {},
   "outputs": [],
   "source": [
    "# Halo properties of GAMA groups, e.g. r_200 and v_200\n",
    "\n",
    "dfHalo['Distance'] = cosmo.angular_diameter_distance(np.array(dfHalo['Z'])).value*h*1e6\n",
    "\n",
    "def H(z):\n",
    "    return H0.value * np.sqrt(cosmo.Om0*((1+z)**3)+1-cosmo.Om0)\n",
    "\n",
    "dfHalo['H']=dfHalo['Z'].apply(H)\n",
    "\n",
    "from astropy.constants import G\n",
    "GMpc = G.to(u.M_sun**-1 * u.km**2 * u.s**-2 * u.Mpc).value\n",
    "Gpc = G.to(u.M_sun**-1 * u.km**2 * u.s**-2 * u.pc).value\n",
    "\n",
    "delta=200\n",
    "\n",
    "dfHalo['r_200']=(((2*GMpc*dfHalo['mass19'])/(delta * dfHalo['H']**2))**(1/3))*1e6\n",
    "\n",
    "dfHalo['v_200']=10*dfHalo['H']*dfHalo['r_200']/1e3\n",
    "\n",
    "dfHalo['Ang_link']=dfHalo['r_200']/dfHalo['Distance']\n",
    "\n",
    "from astropy.constants import c\n",
    "C=c.value\n",
    "\n",
    "dfHalo['V'] = (cosmo.H0*cosmo.comoving_distance(np.array(dfHalo['Z']))).value/(1+dfHalo['Z'])*1e3\n",
    "\n",
    "df['V']=(cosmo.H0*cosmo.comoving_distance(np.array(df['z_norm']))).value/(1+df['z_norm'])*1e3"
   ]
  },
  {
   "cell_type": "code",
   "execution_count": 34,
   "id": "a47fa098",
   "metadata": {},
   "outputs": [],
   "source": [
    "dfHalo['RA']=dfHalo['IterCenRA']\n",
    "dfHalo['Dec']=dfHalo['IterCenDec']\n",
    "\n",
    "df['RA']=df['RAmax']\n",
    "df['Dec']=df['Decmax']"
   ]
  },
  {
   "cell_type": "code",
   "execution_count": 35,
   "id": "303784c2",
   "metadata": {},
   "outputs": [],
   "source": [
    "# Creating KDtrees of galaxies and groups in angular and velocity space\n",
    "\n",
    "import math\n",
    "from sklearn.neighbors import KDTree\n",
    "\n",
    "dfHalo['DecRad'] = (dfHalo['Dec']).apply(math.radians)\n",
    "dfHalo['RARad'] = (dfHalo['RA']).apply(math.radians)\n",
    "df['DecRad'] = (df['Dec']).apply(math.radians)\n",
    "df['RARad'] = (df['RA']).apply(math.radians)\n",
    "\n",
    "ANG_halo=np.array(list(zip(dfHalo['RARad'],dfHalo['DecRad'])))\n",
    "ANGTree_halo=KDTree(ANG_halo, leaf_size=2) \n",
    "\n",
    "ANG_gal=np.array(list(zip(df['RARad'],df['DecRad'])))\n",
    "ANGTree_gal=KDTree(ANG_gal, leaf_size=2) \n",
    "\n",
    "VEL_halo=np.array(list(zip(dfHalo['V'])))\n",
    "VELTree_halo=KDTree(VEL_halo, leaf_size=2) \n",
    "\n",
    "VEL_gal=np.array(list(zip(df['V'])))\n",
    "VELTree_gal=KDTree(VEL_gal, leaf_size=2) "
   ]
  },
  {
   "cell_type": "code",
   "execution_count": 36,
   "id": "106b5ce3",
   "metadata": {},
   "outputs": [],
   "source": [
    "dfHalo['raw_index']=range(len(dfHalo))"
   ]
  },
  {
   "cell_type": "code",
   "execution_count": 38,
   "id": "1ed50e3f",
   "metadata": {},
   "outputs": [
    {
     "data": {
      "application/vnd.jupyter.widget-view+json": {
       "model_id": "7653e082ab5c4a3f81fb8fb139b7deb4",
       "version_major": 2,
       "version_minor": 0
      },
      "text/plain": [
       "  0%|          | 0/23654 [00:00<?, ?it/s]"
      ]
     },
     "metadata": {},
     "output_type": "display_data"
    }
   ],
   "source": [
    "# Using KDtrees to find all photometric galaxies within 3 R_200 and 40 V_200 of each halo\n",
    "# This comes in the form of a dictionary called groups\n",
    "\n",
    "groups={}\n",
    "\n",
    "for halo in tqdm(dfHalo.index):\n",
    "    \n",
    "    ANGind = ANGTree_gal.query_radius(ANG_halo[[int(dfHalo.loc[halo]['raw_index'])]], r=3*dfHalo['Ang_link'][halo])\n",
    "    \n",
    "    if len(ANGind[0])>0:\n",
    "        VELtree = KDTree(VEL_gal[ANGind[0]], leaf_size=2)\n",
    "        ind = VELtree.query_radius(VEL_halo[[int(dfHalo.loc[halo]['raw_index'])]], r=40*dfHalo['v_200'][halo])\n",
    "        groups[halo]=(df.iloc[ANGind[0]]).iloc[ind[0]].index.values\n",
    "    else:\n",
    "        groups[halo]=[]"
   ]
  },
  {
   "cell_type": "code",
   "execution_count": 40,
   "id": "6334e9d7",
   "metadata": {},
   "outputs": [],
   "source": [
    "# Angular separation function\n",
    "def angsep(lon1, lat1, lon2, lat2):\n",
    "\n",
    "    sdlon = np.sin(lon2 - lon1)\n",
    "    cdlon = np.cos(lon2 - lon1)\n",
    "    slat1 = np.sin(lat1)\n",
    "    slat2 = np.sin(lat2)\n",
    "    clat1 = np.cos(lat1)\n",
    "    clat2 = np.cos(lat2)\n",
    "\n",
    "    num1 = clat2 * sdlon\n",
    "    num2 = clat1 * slat2 - slat1 * clat2 * cdlon\n",
    "    denominator = slat1 * slat2 + clat1 * clat2 * cdlon\n",
    "\n",
    "    return np.arctan2(np.hypot(num1, num2), denominator)"
   ]
  },
  {
   "cell_type": "code",
   "execution_count": null,
   "id": "7e7461c3",
   "metadata": {},
   "outputs": [
    {
     "data": {
      "application/vnd.jupyter.widget-view+json": {
       "model_id": "dec29c656a534f6792150228d70e9581",
       "version_major": 2,
       "version_minor": 0
      },
      "text/plain": [
       "  0%|          | 0/23654 [00:00<?, ?it/s]"
      ]
     },
     "metadata": {},
     "output_type": "display_data"
    }
   ],
   "source": [
    "# This loop goes through the groups dictionary we just made\n",
    "# It then makes a list of the halo in the association, the galaxy, their velocity and radial difference, and whether the match is true or not\n",
    "\n",
    "halos=[]\n",
    "gals=[]\n",
    "vel_diff=[]\n",
    "rad_diff=[]\n",
    "\n",
    "for halo in tqdm((groups)):\n",
    "    for gal in groups[halo]:\n",
    "        halos.append(halo)\n",
    "        gals.append(gal)\n",
    "        vel_diff.append(abs(dfHalo['V'][halo] - df['V'][gal])/dfHalo['v_200'][halo])\n",
    "        rad_diff.append((angsep(dfHalo['RARad'][halo],dfHalo['DecRad'][halo],\n",
    "                                df.loc[gal]['RARad'],df.loc[gal]['DecRad']))/dfHalo['Ang_link'][halo])"
   ]
  },
  {
   "cell_type": "code",
   "execution_count": null,
   "id": "e962fb5c",
   "metadata": {},
   "outputs": [],
   "source": [
    "probdf=pd.DataFrame()\n",
    "probdf['halo']=halos\n",
    "probdf['gal']=gals\n",
    "probdf['vel_diff']=vel_diff\n",
    "probdf['rad_diff']=rad_diff"
   ]
  },
  {
   "cell_type": "code",
   "execution_count": null,
   "id": "90f4e358",
   "metadata": {},
   "outputs": [],
   "source": [
    "fracs=np.load('../Photo_group_project/fracs.npy')\n",
    "r=np.load('../Photo_group_project/r.npy')\n",
    "vel=np.load('../Photo_group_project/vel.npy')"
   ]
  },
  {
   "cell_type": "code",
   "execution_count": null,
   "id": "415ed5bc",
   "metadata": {},
   "outputs": [],
   "source": [
    "r_grid=np.linspace(0,3,100)\n",
    "vel_grid=np.linspace(0,40,100)\n",
    "r_mesh, vel_mesh = np.meshgrid(r_grid, vel_grid, indexing='xy')\n",
    "Z = np.zeros((np.array(r).size, np.array(vel).size))"
   ]
  },
  {
   "cell_type": "code",
   "execution_count": null,
   "id": "7701444c",
   "metadata": {},
   "outputs": [],
   "source": [
    "import scipy as sp\n",
    "import scipy.interpolate\n",
    "spline = sp.interpolate.Rbf(r,vel,fracs,smooth=0.05)\n",
    "Z = spline(r_mesh,vel_mesh)"
   ]
  },
  {
   "cell_type": "code",
   "execution_count": null,
   "id": "207742eb",
   "metadata": {},
   "outputs": [],
   "source": [
    "from matplotlib import cm\n",
    "plt.figure(figsize=(10,10))\n",
    "ax = plt.axes(projection='3d')\n",
    "ax.plot_wireframe(r_mesh, vel_mesh, Z.reshape(100,100))\n",
    "ax.plot_surface(r_mesh, vel_mesh, Z.reshape(100,100),alpha=0.4,\n",
    "                cmap=cm.turbo,linewidth=0, antialiased=False)\n",
    "ax.scatter3D(r,vel,fracs,c='k')\n",
    "ax.set_xlabel('r/r200')\n",
    "ax.set_ylabel('v/v200')\n",
    "ax.set_zlabel('frac')\n",
    "#plt.savefig('spline.jpg',overwrite=True)\n"
   ]
  },
  {
   "cell_type": "code",
   "execution_count": null,
   "id": "32ebcfa3",
   "metadata": {},
   "outputs": [],
   "source": [
    "dfn=pd.DataFrame()\n",
    "dfn['izeta']=np.arange(1,161)\n",
    "dfn=dfn.set_index('izeta')\n",
    "dfn['zeta']=0.0036620409622270325 + ((dfn.index-1)*0.007324081924454079)\n",
    "dfn['z']=np.exp(dfn['zeta'])-1"
   ]
  },
  {
   "cell_type": "code",
   "execution_count": null,
   "id": "dd5af9dd",
   "metadata": {},
   "outputs": [],
   "source": [
    "z_grid=np.array(dfn['z'])"
   ]
  },
  {
   "cell_type": "code",
   "execution_count": null,
   "id": "0227a8a1",
   "metadata": {},
   "outputs": [],
   "source": [
    "vel_array=(cosmo.H0*cosmo.comoving_distance(z_grid)).value/(1+z_grid)*1e3"
   ]
  },
  {
   "cell_type": "code",
   "execution_count": null,
   "id": "d8280faa",
   "metadata": {},
   "outputs": [],
   "source": [
    "probs=[]"
   ]
  },
  {
   "cell_type": "code",
   "execution_count": null,
   "id": "e3c4cc7a",
   "metadata": {},
   "outputs": [],
   "source": [
    "for ix in tqdm(probdf.index):\n",
    "    halo=int(probdf.loc[ix]['halo'])\n",
    "    gal=int(probdf.loc[ix]['gal'])\n",
    "    \n",
    "    if dfHalo.loc[halo]['RA']<150:\n",
    "\n",
    "        hdul = fits.open('../g09_posteriors/'+'topz_pzeta_'+str(gal)+'.fits')\n",
    "        data = hdul[1].data\n",
    "        t=Table(data)\n",
    "        names = [name for name in t.colnames if len(t[name].shape) <= 1]\n",
    "        df_new=t[names].to_pandas()\n",
    "        df_new=df_new.set_index('izeta')\n",
    "\n",
    "        dfn['prob']=0\n",
    "        dfn.loc[df_new.index,'prob']=df_new['p'].values\n",
    "\n",
    "        ang_diff=probdf.loc[ix]['rad_diff']\n",
    "\n",
    "        vel_diff_array=abs(dfHalo['V'][halo]-vel_array)/dfHalo['v_200'][halo]\n",
    "\n",
    "        spline_array=spline(ang_diff*np.ones(len(vel_diff_array[vel_diff_array<40])),\n",
    "                            vel_diff_array[vel_diff_array<40])\n",
    "\n",
    "        probs.append(sum(spline_array*np.array(dfn['prob'])[vel_diff_array<40])/sum(dfn['prob']))\n",
    "    else:\n",
    "        hdul = fits.open('g15_posteriors/'+'topz_pzeta_'+str(gal)+'.fits')\n",
    "        data = hdul[1].data\n",
    "        t=Table(data)\n",
    "        names = [name for name in t.colnames if len(t[name].shape) <= 1]\n",
    "        df_new=t[names].to_pandas()\n",
    "        df_new=df_new.set_index('izeta')\n",
    "\n",
    "        dfn['prob']=0\n",
    "        dfn.loc[df_new.index,'prob']=df_new['p'].values\n",
    "\n",
    "        ang_diff=probdf.loc[ix]['rad_diff']\n",
    "\n",
    "        vel_diff_array=abs(dfHalo['V'][halo]-vel_array)/dfHalo['v_200'][halo]\n",
    "\n",
    "        spline_array=spline(ang_diff*np.ones(len(vel_diff_array[vel_diff_array<40])),\n",
    "                            vel_diff_array[vel_diff_array<40])\n",
    "\n",
    "        probs.append(sum(spline_array*np.array(dfn['prob'])[vel_diff_array<40])/sum(dfn['prob']))\n",
    "        "
   ]
  },
  {
   "cell_type": "code",
   "execution_count": null,
   "id": "ca088c75",
   "metadata": {},
   "outputs": [],
   "source": [
    "probdf['prob']=probs"
   ]
  },
  {
   "cell_type": "code",
   "execution_count": null,
   "id": "1f60be79",
   "metadata": {},
   "outputs": [],
   "source": [
    "probdf.loc[probdf[probdf['prob']<0].index,'prob']=0"
   ]
  },
  {
   "cell_type": "code",
   "execution_count": null,
   "id": "f55ae8f9",
   "metadata": {},
   "outputs": [],
   "source": [
    "#probdf.to_csv('probdf.csv')"
   ]
  },
  {
   "cell_type": "code",
   "execution_count": null,
   "id": "e5275d08",
   "metadata": {},
   "outputs": [],
   "source": [
    "len(np.unique(probdf['halo']))"
   ]
  },
  {
   "cell_type": "code",
   "execution_count": null,
   "id": "379c0eb9",
   "metadata": {},
   "outputs": [],
   "source": [
    "hdul = fits.open('../WAVES/nov3_parquet/cat_matched_paus_untrimmed_Ivan_Baldry.fits')\n",
    "data = hdul[1].data\n",
    "cols = hdul[1].columns\n",
    "t=Table(data)\n",
    "names = [name for name in t.colnames if len(t[name].shape) <= 1]\n",
    "df_paus=t[names].to_pandas()\n",
    "del hdul\n",
    "del data\n",
    "del cols\n",
    "del t"
   ]
  },
  {
   "cell_type": "code",
   "execution_count": null,
   "id": "4a845d60",
   "metadata": {},
   "outputs": [],
   "source": [
    "df_paus=df_paus.set_index('UBERID')\n",
    "df_paus=df_paus[(df_paus['QZ']<3) & (df_paus['CHI2']<50)]\n",
    "intersect=np.intersect1d(df_paus.index,df.index)\n",
    "df_paus=df_paus.loc[intersect]\n",
    "df_paus['Z']=df_paus['ZB']\n",
    "df_paus['Z_top'] = df.loc[intersect]['z_norm']"
   ]
  },
  {
   "cell_type": "code",
   "execution_count": null,
   "id": "9a7665f6",
   "metadata": {},
   "outputs": [],
   "source": [
    "df['Z_paus']=np.nan\n",
    "df.loc[df_paus.index,'Z_paus']=df_paus['Z'].values"
   ]
  },
  {
   "cell_type": "code",
   "execution_count": null,
   "id": "b8d0d48c",
   "metadata": {},
   "outputs": [],
   "source": [
    "hdul = fits.open('../WAVES/speccat-matched.fits')\n",
    "data = hdul[1].data\n",
    "cols = hdul[1].columns\n",
    "t=Table(data)\n",
    "names = [name for name in t.colnames if len(t[name].shape) <= 1]\n",
    "df_spec=t[names].to_pandas()\n",
    "del hdul\n",
    "del data\n",
    "del cols\n",
    "del t"
   ]
  },
  {
   "cell_type": "code",
   "execution_count": null,
   "id": "d4eb3e8b",
   "metadata": {},
   "outputs": [],
   "source": [
    "df_spec=df_spec.set_index('UBERID')"
   ]
  },
  {
   "cell_type": "code",
   "execution_count": null,
   "id": "500bf04f",
   "metadata": {},
   "outputs": [],
   "source": [
    "intersect=np.intersect1d(df_spec.index,df.index)\n",
    "df_spec=df_spec.loc[intersect]"
   ]
  },
  {
   "cell_type": "code",
   "execution_count": null,
   "id": "f1c2c67c",
   "metadata": {},
   "outputs": [],
   "source": [
    "df['Z_spec']=np.nan\n",
    "df.loc[df_spec.index,'Z_spec']=df_spec['Z'].values"
   ]
  },
  {
   "cell_type": "code",
   "execution_count": null,
   "id": "b2830666",
   "metadata": {},
   "outputs": [],
   "source": [
    "df['Z_comb']=np.NAN\n",
    "df.loc[df[df['Z_paus']>0].index,'Z_comb'] = df[df['Z_paus']>0]['Z_paus']\n",
    "df.loc[df[df['Z_spec']>0].index,'Z_comb'] = df[df['Z_spec']>0]['Z_spec']"
   ]
  },
  {
   "cell_type": "code",
   "execution_count": null,
   "id": "ef9c2e8e",
   "metadata": {},
   "outputs": [],
   "source": []
  },
  {
   "cell_type": "code",
   "execution_count": null,
   "id": "8c55a3ca",
   "metadata": {},
   "outputs": [],
   "source": []
  },
  {
   "cell_type": "code",
   "execution_count": null,
   "id": "e882689a",
   "metadata": {},
   "outputs": [],
   "source": [
    "thresholds=np.linspace(0.1,0.5,50)\n",
    "num_threshold=[]\n",
    "unique_threshold=[]\n",
    "tag_diff=[]\n",
    "photo_diff=[]"
   ]
  },
  {
   "cell_type": "code",
   "execution_count": null,
   "id": "e12ca334",
   "metadata": {},
   "outputs": [],
   "source": [
    "for threshold in tqdm(thresholds):\n",
    "    num_threshold.append(len(probdf[probdf['prob']>threshold]))\n",
    "    unique_threshold.append(len(np.unique(probdf[probdf['prob']>threshold]['gal'])))\n",
    "    df['Z_tag']=np.NAN\n",
    "    df.loc[probdf[probdf['prob']>threshold]['gal'],'Z_tag']=dfHalo.loc[probdf[probdf['prob']>threshold]['halo']]['Z'].values\n",
    "\n",
    "    sample=df[(df['Z_tag']>0) & (df['Z_comb']>0) & (df['Z_tag']<0.55)]\n",
    "    tag_diff.append(np.median(abs(sample['Z_tag']-sample['Z_comb'])/(1+sample['Z_comb'])))\n",
    "    photo_diff.append(np.median(abs(sample['z_norm']-sample['Z_comb'])/(1+sample['Z_comb'])))"
   ]
  },
  {
   "cell_type": "code",
   "execution_count": null,
   "id": "811b29de",
   "metadata": {},
   "outputs": [],
   "source": [
    "fig, axs = plt.subplots(2,1, facecolor='w', edgecolor='k',gridspec_kw={'height_ratios': [4, 1]})\n",
    "fig.subplots_adjust(hspace = 0.05, wspace=0)\n",
    "\n",
    "axs[0].plot(thresholds,tag_diff)\n",
    "axs[0].xaxis.set_ticklabels([])\n",
    "axs[0].set_xlim(0.1,0.5)\n",
    "axs[0].axhline(0.0177,c='k',linestyle='dashed')\n",
    "axs[0].set_ylabel('Median '+r'$|\\Delta z | / (1+z)$')\n",
    "\n",
    "\n",
    "axs[1].bar(thresholds,num_threshold,width=0.009)\n",
    "axs[1].set_xlim(0.1,0.5)\n",
    "axs[1].set_yscale('log')\n",
    "axs[1].set_ylim(1000,1e6)\n",
    "axs[1].tick_params(axis='x', which='major', pad=10)\n",
    "axs[1].set_ylabel('No. > threshold',fontsize=15)\n",
    "\n",
    "axs[1].set_xlabel('Probability')\n",
    "\n",
    "\n",
    "plt.savefig('z_refinement.jpg',bbox_inches='tight',dpi=200)\n",
    "\n",
    "\n",
    "\n",
    "plt.show()"
   ]
  },
  {
   "cell_type": "code",
   "execution_count": null,
   "id": "96058b32",
   "metadata": {},
   "outputs": [],
   "source": [
    "threshold=0.4\n",
    "df['Z_tag']=np.NAN\n",
    "df.loc[probdf[probdf['prob']>threshold]['gal'],'Z_tag']=dfHalo.loc[probdf[probdf['prob']>threshold]['halo']]['Z'].values\n",
    "\n",
    "sample=df[(df['Z_tag']>0) & (df['Z_comb']>0) & (df['Z_tag']<0.55)]\n",
    "np.median(abs(sample['Z_tag']-sample['Z_comb'])/(1+sample['Z_comb']))"
   ]
  },
  {
   "cell_type": "code",
   "execution_count": null,
   "id": "c033f4dc",
   "metadata": {},
   "outputs": [],
   "source": [
    "len(np.unique(probdf[probdf['prob']>threshold]['gal']))"
   ]
  },
  {
   "cell_type": "code",
   "execution_count": null,
   "id": "518f9f19",
   "metadata": {},
   "outputs": [],
   "source": [
    "plt.figure(figsize=(6,8))\n",
    "plt.hist((sample['z_peak']-sample['Z_comb'])/(1+sample['Z_comb']),\n",
    "         bins=np.linspace(-0.1,0.1,101),histtype='step',label='$z_\\mathrm{photo}$')\n",
    "plt.hist((sample['Z_tag']-sample['Z_comb'])/(1+sample['Z_comb']),\n",
    "         bins=np.linspace(-0.1,0.1,101),histtype='step',label='$z_\\mathrm{tag}$')\n",
    "#plt.axvline(0,c='k',linestyle='dashed',linewidth=2)\n",
    "plt.xlabel('$\\Delta z / (1+z_\\mathrm{spec})$')\n",
    "plt.ylabel('Counts')\n",
    "plt.legend(frameon=False)\n",
    "#plt.savefig('z_tag_z_photo_0.5.jpg',bbox_inches='tight',dpi=200)\n",
    "plt.show()"
   ]
  },
  {
   "cell_type": "code",
   "execution_count": null,
   "id": "0fc2c626",
   "metadata": {},
   "outputs": [],
   "source": [
    "plt.scatter(sample['Z_comb'],\n",
    "            sample['Z_tag'],\n",
    "            s=1,c='k',linewidth=0)\n",
    "im=plt.hexbin(sample['Z_comb'],sample['Z_tag'],gridsize=(60,round(60*2/3)),\n",
    "              cmap='turbo',extent=(-0.01,0.55,-0.01,0.55),mincnt=5,linewidths=0)#norm=matplotlib.colors.LogNorm())\n",
    "\n",
    "plt.plot([0,0.55],[0,0.55],c='k',linestyle='dashed',linewidth=1)\n",
    "plt.xlabel(r'$z_\\mathrm{spec}$',fontsize=20)\n",
    "plt.ylabel(r'$z_\\mathrm{tag}$',fontsize=20)\n",
    "plt.xlim(-0.01,0.55)\n",
    "plt.ylim(-0.01,0.55)\n",
    "\n",
    "cbar=plt.colorbar().set_label(label='Counts')\n",
    "im.figure.axes[1].tick_params(labelsize=20)\n",
    "#plt.savefig('z_tag_z_spec_0.5.jpg',bbox_inches='tight',dpi=200)\n",
    "plt.show()"
   ]
  },
  {
   "cell_type": "code",
   "execution_count": null,
   "id": "3151103d",
   "metadata": {},
   "outputs": [],
   "source": [
    "np.median(abs(sample['Z_tag']-sample['Z_comb'])/(1+sample['Z_comb']))"
   ]
  },
  {
   "cell_type": "code",
   "execution_count": null,
   "id": "79c6de9b",
   "metadata": {},
   "outputs": [],
   "source": [
    "np.median(abs(sample['z_norm']-sample['Z_comb'])/(1+sample['Z_comb']))"
   ]
  },
  {
   "cell_type": "code",
   "execution_count": null,
   "id": "f47eb7fb",
   "metadata": {},
   "outputs": [],
   "source": [
    "len(sample[abs((sample['Z_tag']-sample['Z_comb'])/(1+sample['Z_comb']))<0.01])/len(sample)"
   ]
  },
  {
   "cell_type": "code",
   "execution_count": null,
   "id": "d790a6cf",
   "metadata": {},
   "outputs": [],
   "source": [
    "1.4826*np.median(abs(((sample['Z_tag']-sample['Z_comb'])/(1+sample['Z_comb'])) - \n",
    "                     np.median(((sample['Z_tag']-sample['Z_comb'])/(1+sample['Z_comb'])))))"
   ]
  },
  {
   "cell_type": "code",
   "execution_count": null,
   "id": "9ed6ae72",
   "metadata": {},
   "outputs": [],
   "source": [
    "dfHalo['N_prob']=dfHalo['Nfof']\n",
    "dfHalo['N_threshold']=dfHalo['Nfof']"
   ]
  },
  {
   "cell_type": "code",
   "execution_count": null,
   "id": "036493d9",
   "metadata": {},
   "outputs": [],
   "source": [
    "for i in tqdm(probdf.index):\n",
    "    halo=probdf['halo'][i]\n",
    "    dfHalo['N_prob'].loc[halo]+=probdf['prob'][i]\n",
    "    if probdf['prob'][i] >threshold:\n",
    "        dfHalo['N_threshold'].loc[halo]+=1"
   ]
  },
  {
   "cell_type": "code",
   "execution_count": null,
   "id": "29804a14",
   "metadata": {},
   "outputs": [],
   "source": [
    "cmap = matplotlib.cm.get_cmap('viridis')\n",
    "z_bins=[0,0.1,0.2,0.3,0.4,0.5,0.6]"
   ]
  },
  {
   "cell_type": "code",
   "execution_count": null,
   "id": "812815f9",
   "metadata": {},
   "outputs": [],
   "source": [
    "fig, ax1 = plt.subplots(1, 1, figsize=[13, 8])\n",
    "for i in tqdm(range(len(z_bins)-1)):\n",
    "    median=[]\n",
    "    z_low=z_bins[i]\n",
    "    z_high=z_bins[i+1]\n",
    "    sample=dfHalo[(dfHalo['Z']>z_low) & (dfHalo['Z']<z_high)]\n",
    "    for j in (range(len(n_bins[:-1]))):\n",
    "        n_low=n_bins[j]\n",
    "        n_high=n_bins[j+1]\n",
    "        sample_new=sample[(sample['Nfof']>n_low) & (sample['Nfof']<n_high)]\n",
    "        if len(sample_new)>0:\n",
    "            median.append(np.median(sample_new['N_prob']))\n",
    "        else:\n",
    "            median.append(np.NAN)\n",
    "    im=ax1.plot(n_centres,np.array(median)/np.array(n_centres),c=cmap(i/5),linewidth=2)\n",
    "ax1.scatter(dfHalo['Nfof'],dfHalo['N_prob']/dfHalo['Nfof'],linewidth=0,s=5,c='k')\n",
    "\n",
    "ax1.set_xscale('log')\n",
    "ax1.set_yscale('log')\n",
    "ax1.set_xlabel('$N_\\mathrm{FoF}$')\n",
    "ax1.set_ylabel('$N_\\mathrm{Supplemented}/N_\\mathrm{FoF}$')\n",
    "ax1.set_xlim(1.5,200)\n",
    "ax1.set_ylim(0.8,200)\n",
    "\n",
    "axins = inset_axes(\n",
    "    ax1,\n",
    "    width=\"70%\",  # width: 5% of parent_bbox width\n",
    "    height=\"5%\",  # height: 50%\n",
    "    loc=\"upper center\",\n",
    "    bbox_to_anchor=(0.4,-0.1, 1, 1),\n",
    "    bbox_transform=ax2.transAxes,\n",
    "    borderpad=0)\n",
    "\n",
    "im=ax1.scatter(dfHalo['Nfof']*1e6,dfHalo['Nfof']*1e6,c=dfHalo['Z'])\n",
    "\n",
    "fig.colorbar(im,cax=axins,label=r'$z$',pad=0.02,ticks=z_bins,boundaries=z_bins,orientation='horizontal')\n",
    "\n",
    "\n",
    "\n",
    "plt.show()\n"
   ]
  },
  {
   "cell_type": "code",
   "execution_count": null,
   "id": "b2deb92a",
   "metadata": {},
   "outputs": [],
   "source": [
    "mass_bins=[12.5,13,13.5,14,14.5,15,15.5]"
   ]
  },
  {
   "cell_type": "code",
   "execution_count": null,
   "id": "3f6ef7e4",
   "metadata": {},
   "outputs": [],
   "source": [
    "fig, ax1 = plt.subplots(1, 1, figsize=[13, 8])\n",
    "for i in tqdm(range(len(mass_bins)-1)):\n",
    "    median=[]\n",
    "    mass_low=mass_bins[i]\n",
    "    mass_high=mass_bins[i+1]\n",
    "    sample=dfHalo[(np.log10(dfHalo['mass19'])>mass_low) & (np.log10(dfHalo['mass19'])<mass_high)]\n",
    "    for j in (range(len(n_bins[:-1]))):\n",
    "        n_low=n_bins[j]\n",
    "        n_high=n_bins[j+1]\n",
    "        sample_new=sample[(sample['Nfof']>n_low) & (sample['Nfof']<n_high)]\n",
    "        if len(sample_new)>0:\n",
    "            median.append(np.median(sample_new['N_prob']))\n",
    "        else:\n",
    "            median.append(np.NAN)\n",
    "    im=ax1.plot(n_centres,np.array(median)/np.array(n_centres),c=cmap(i/(len(mass_bins)-1)),linewidth=2)\n",
    "ax1.scatter(dfHalo['Nfof'],dfHalo['N_prob']/dfHalo['Nfof'],linewidth=0,s=5,c='k')\n",
    "\n",
    "ax1.set_xscale('log')\n",
    "ax1.set_yscale('log')\n",
    "ax1.set_xlabel('$N_\\mathrm{FoF}$')\n",
    "ax1.set_ylabel('$N_\\mathrm{Supplemented}/N_\\mathrm{FoF}$')\n",
    "ax1.set_xlim(1.5,200)\n",
    "ax1.set_ylim(0.8,200)\n",
    "\n",
    "axins = inset_axes(\n",
    "    ax1,\n",
    "    width=\"70%\",  # width: 5% of parent_bbox width\n",
    "    height=\"5%\",  # height: 50%\n",
    "    loc=\"upper center\",\n",
    "    bbox_to_anchor=(0.4,-0.1, 1, 1),\n",
    "    bbox_transform=ax2.transAxes,\n",
    "    borderpad=0)\n",
    "\n",
    "sample=dfHalo[(dfHalo['mass19']>10**12.5) & (dfHalo['mass19']<10**15.5)]\n",
    "\n",
    "im=ax1.scatter(sample['Nfof']*1e6,sample['Nfof']*1e6,c=np.log10(sample['mass19']))\n",
    "\n",
    "fig.colorbar(im,cax=axins,label=r'$\\mathrm{log(Mass/}\\mathrm{M}_\\odot h^{-1})$',pad=0.02,ticks=mass_bins,boundaries=mass_bins,orientation='horizontal')\n",
    "\n",
    "\n",
    "plt.show()\n"
   ]
  },
  {
   "cell_type": "code",
   "execution_count": null,
   "id": "dd333bb6",
   "metadata": {},
   "outputs": [],
   "source": [
    "plt.scatter(dfHalo['Z'],dfHalo['Lumfac19'])"
   ]
  },
  {
   "cell_type": "code",
   "execution_count": null,
   "id": "fe7af7c0",
   "metadata": {},
   "outputs": [],
   "source": [
    "np.median(dfHalo[dfHalo['Nfof']>4]['N_prob']/dfHalo[dfHalo['Nfof']>4]['Nfof'])"
   ]
  },
  {
   "cell_type": "code",
   "execution_count": null,
   "id": "07b5a2d8",
   "metadata": {},
   "outputs": [],
   "source": [
    "lum_sup_arr=[]"
   ]
  },
  {
   "cell_type": "code",
   "execution_count": null,
   "id": "a3fef76f",
   "metadata": {},
   "outputs": [],
   "source": [
    "for halo in tqdm(dfHalo.index):\n",
    "    lum=dfHalo.loc[halo]['lum19raw']\n",
    "    subset=probdf[probdf['halo']==halo]\n",
    "    distance=dfHalo.loc[halo]['LumDistance']\n",
    "    Z=dfHalo.loc[halo]['Z']\n",
    "    df_gals['AbMag'] = df_gals['Rpetro']-5*np.log10(df_gals['LumDistance'])+5 - df_gals['Kcorr']\n",
    "    subset_gals=df.loc[subset['gal']]\n",
    "    subset_gals['AbMag']=subset_gals['mag_rt']-5*np.log10(distance)+5-kcorr(Z)\n",
    "    subset_gals['lum']=lumconv(subset_gals['AbMag'])\n",
    "    lum_sup_arr.append(lum + sum(subset['prob'].values * subset_gals['lum'].values))\n"
   ]
  },
  {
   "cell_type": "code",
   "execution_count": null,
   "id": "3e30989b",
   "metadata": {},
   "outputs": [],
   "source": [
    "dfHalo['lum_sup']=np.array(lum_sup_arr)*dfHalo['Lumfac21']"
   ]
  },
  {
   "cell_type": "code",
   "execution_count": null,
   "id": "5b85e6cf",
   "metadata": {},
   "outputs": [],
   "source": [
    "sample=dfHalo[dfHalo['Z']>0.5]"
   ]
  },
  {
   "cell_type": "code",
   "execution_count": null,
   "id": "545617e4",
   "metadata": {},
   "outputs": [],
   "source": [
    "np.mean(sample['lum_sup']/sample['LumB'])"
   ]
  },
  {
   "cell_type": "code",
   "execution_count": null,
   "id": "019e0730",
   "metadata": {},
   "outputs": [],
   "source": [
    "plt.scatter(sample['LumB'],sample['lum_sup'],c=sample['Z'])\n",
    "plt.plot([1e7,6e13],[1e7,6e13],c='k')\n",
    "plt.xscale('log')\n",
    "plt.yscale('log')"
   ]
  },
  {
   "cell_type": "code",
   "execution_count": null,
   "id": "f6b3f8bd",
   "metadata": {},
   "outputs": [],
   "source": [
    "dfHalo['mass_sup']=massconv(dfHalo['lum_sup'])"
   ]
  },
  {
   "cell_type": "code",
   "execution_count": null,
   "id": "7b0414f7",
   "metadata": {},
   "outputs": [],
   "source": [
    "fig, axs = plt.subplots(1,2, facecolor='w', edgecolor='k',gridspec_kw={'width_ratios': [1, 1]},figsize=(16,8))\n",
    "fig.subplots_adjust(hspace = 0, wspace=0.15)\n",
    "axs=axs.ravel()\n",
    "\n",
    "sample=dfHalo[(dfHalo['Nfof']>1) & (dfHalo['mass19']>0)]\n",
    "\n",
    "axs[0].hexbin(massconv(sample['LumB']),\n",
    "              sample['mass_sup'],\n",
    "              gridsize=(70,round(70*2/3)),cmap='turbo',extent=(10,15,10,15),mincnt=1,\n",
    "              linewidths=0,vmin=0,vmax=500,xscale='log',yscale='log')#,norm=matplotlib.colors.LogNorm())\n",
    "axs[0].plot([1e8,1e16],[1e8,1e16],c='k',linestyle='dashed')\n",
    "axs[0].plot([1e8,1e15],[1e9,1e16],c='k',linestyle='dashed')\n",
    "axs[0].plot([1e9,1e16],[1e8,1e15],c='k',linestyle='dashed')\n",
    "axs[0].set_xlim(1e11,1e15)\n",
    "axs[0].set_ylim(1e11,1e15)\n",
    "axs[0].set_xlabel('Extrapolated Luminosity Mass [$h^{-1}\\mathrm{M_\\odot}$]')\n",
    "axs[0].set_ylabel('Supplemented Luminosity Mass [$h^{-1}\\mathrm{M_\\odot}$]')\n",
    "#axs[0].xaxis.set_ticklabels([1e10,1e11,1e12])\n",
    "axs[0].set_title('$N \\geq 2$')\n",
    "axs[0].set_aspect('equal', adjustable='box')\n",
    "\n",
    "\n",
    "\n",
    "sample=dfHalo[(dfHalo['Nfof']>4) & (dfHalo['mass19']>0)]\n",
    "\n",
    "axs[1].hexbin(massconv(sample['LumB']),\n",
    "              sample['mass_sup'],\n",
    "              gridsize=(70,round(70*2/3)),cmap='turbo',extent=(10,15,10,15),mincnt=1,\n",
    "              linewidths=0,vmin=0,vmax=500,xscale='log',yscale='log')#,norm=matplotlib.colors.LogNorm())\n",
    "axs[1].plot([1e8,1e16],[1e8,1e16],c='k',linestyle='dashed')\n",
    "axs[1].plot([1e8,1e15],[1e9,1e16],c='k',linestyle='dashed')\n",
    "axs[1].plot([1e9,1e16],[1e8,1e15],c='k',linestyle='dashed')\n",
    "axs[1].set_xlim(1e11,1e15)\n",
    "axs[1].set_ylim(1e11,1e15)\n",
    "axs[1].set_xlabel('Extrapolated Luminosity Mass [$h^{-1}\\mathrm{M_\\odot}$]')\n",
    "#axs[0].xaxis.set_ticklabels([1e10,1e11,1e12])\n",
    "axs[1].set_title('$N \\geq 5$')\n",
    "axs[1].set_aspect('equal', adjustable='box')\n",
    "axs[1].yaxis.set_ticklabels([])\n",
    "\n",
    "\n",
    "\n",
    "#cax = fig.add_axes([0.85,0.1,0.03,0.8]) \n",
    "im = plt.gca().get_children()[0]\n",
    "fig.colorbar(im, ax=axs,pad=0.01,fraction=0.0225,label='Counts')\n",
    "\n",
    "#plt.savefig('lum_mass_sup_lum_mass.jpg', bbox_inches='tight', dpi=200)\n",
    "plt.show()"
   ]
  },
  {
   "cell_type": "code",
   "execution_count": null,
   "id": "91d852d0",
   "metadata": {},
   "outputs": [],
   "source": [
    "plt.scatter(sample['mass_sup'],sample['mass_sup']/sample['mass19'],c=sample['Z'])\n",
    "plt.xscale('log')\n",
    "plt.axhline(1,c='k')"
   ]
  },
  {
   "cell_type": "code",
   "execution_count": null,
   "id": "9ba94a22",
   "metadata": {},
   "outputs": [],
   "source": [
    "fig, axs = plt.subplots(1,2, facecolor='w', edgecolor='k',gridspec_kw={'width_ratios': [1, 1]},figsize=(16,8))\n",
    "fig.subplots_adjust(hspace = 0, wspace=0.15)\n",
    "axs=axs.ravel()\n",
    "\n",
    "sample=dfHalo[(dfHalo['Nfof']>1) & (dfHalo['MassAfunc']>0) & (dfHalo['mass19']>0)]\n",
    "\n",
    "axs[0].hexbin(sample['MassAfunc'],\n",
    "              sample['mass_sup'],\n",
    "              gridsize=(70,round(70*2/3)),cmap='turbo',extent=(10,15,10,15),mincnt=1,\n",
    "              linewidths=0,vmin=0,vmax=40,xscale='log',yscale='log')\n",
    "axs[0].plot([1e8,1e16],[1e8,1e16],c='k',linestyle='dashed')\n",
    "axs[0].plot([1e8,1e15],[1e9,1e16],c='k',linestyle='dashed')\n",
    "axs[0].plot([1e9,1e16],[1e8,1e15],c='k',linestyle='dashed')\n",
    "axs[0].set_xlim(1e11,1e15)\n",
    "axs[0].set_ylim(1e11,1e15)\n",
    "axs[0].set_xlabel('Dynamical Mass [$h^{-1}\\mathrm{M_\\odot}$]')\n",
    "axs[0].set_ylabel('Supplemented Luminosity Mass [$h^{-1}\\mathrm{M_\\odot}$]')\n",
    "#axs[0].xaxis.set_ticklabels([1e10,1e11,1e12])\n",
    "axs[0].set_title('$N \\geq 2$')\n",
    "axs[0].set_aspect('equal', adjustable='box')\n",
    "\n",
    "\n",
    "\n",
    "sample=dfHalo[(dfHalo['Nfof']>4) & (dfHalo['MassAfunc']>0) & (dfHalo['mass19']>0)]\n",
    "\n",
    "axs[1].hexbin(sample['MassAfunc'],\n",
    "              sample['mass_sup'],\n",
    "              gridsize=(70,round(70*2/3)),cmap='turbo',extent=(10,15,10,15),mincnt=1,\n",
    "              linewidths=0,vmin=0,vmax=40,xscale='log',yscale='log')\n",
    "axs[1].plot([1e8,1e16],[1e8,1e16],c='k',linestyle='dashed')\n",
    "axs[1].plot([1e8,1e15],[1e9,1e16],c='k',linestyle='dashed')\n",
    "axs[1].plot([1e9,1e16],[1e8,1e15],c='k',linestyle='dashed')\n",
    "axs[1].set_xlim(1e11,1e15)\n",
    "axs[1].set_ylim(1e11,1e15)\n",
    "axs[1].set_xlabel('Dynamical Mass [$h^{-1}\\mathrm{M_\\odot}$]')\n",
    "#axs[0].xaxis.set_ticklabels([1e10,1e11,1e12])\n",
    "axs[1].set_title('$N \\geq 5$')\n",
    "axs[1].set_aspect('equal', adjustable='box')\n",
    "axs[1].yaxis.set_ticklabels([])\n",
    "\n",
    "\n",
    "\n",
    "#cax = fig.add_axes([0.85,0.1,0.03,0.8]) \n",
    "im = plt.gca().get_children()[0]\n",
    "fig.colorbar(im, ax=axs,pad=0.01,fraction=0.0225,label='Counts')\n",
    "\n",
    "plt.savefig('dyn_mass_sup_lum_mass.jpg', bbox_inches='tight', dpi=200)\n",
    "plt.show()"
   ]
  },
  {
   "cell_type": "code",
   "execution_count": null,
   "id": "e6bdf193",
   "metadata": {},
   "outputs": [],
   "source": [
    "#dfHalo.to_csv('GAMA_groups.csv')"
   ]
  },
  {
   "cell_type": "code",
   "execution_count": null,
   "id": "715921c9",
   "metadata": {},
   "outputs": [],
   "source": [
    "dfn=pd.DataFrame()\n",
    "dfn['izeta']=np.arange(1,161)\n",
    "dfn=dfn.set_index('izeta')\n",
    "dfn['zeta']=0.0036620409622270325 + ((dfn.index-1)*0.007324081924454079)\n",
    "dfn['z']=np.exp(dfn['zeta'])-1"
   ]
  },
  {
   "cell_type": "code",
   "execution_count": null,
   "id": "9c35c2f7",
   "metadata": {},
   "outputs": [],
   "source": [
    "def random_p_z():\n",
    "    gal=np.random.choice(df_paus.index)\n",
    "    hdul = fits.open('../g09_posteriors/'+'topz_pzeta_'+str(gal)+'.fits')\n",
    "    data = hdul[1].data\n",
    "    t=Table(data)\n",
    "    names = [name for name in t.colnames if len(t[name].shape) <= 1]\n",
    "    df_new=t[names].to_pandas()\n",
    "    df_new=df_new.set_index('izeta')\n",
    "\n",
    "    dfn['prob']=0\n",
    "    dfn.loc[df_new.index,'prob']=df_new['p'].values\n",
    "    z=df_paus.loc[gal]['ZB']\n",
    "    mag=df.loc[gal]['mag_rt']\n",
    "    \n",
    "    return dfn,z,gal,mag"
   ]
  },
  {
   "cell_type": "code",
   "execution_count": null,
   "id": "3885cd11",
   "metadata": {},
   "outputs": [],
   "source": [
    "fig = plt.figure(figsize=(20,20))\n",
    "spec = matplotlib.gridspec.GridSpec(ncols=3, nrows=3) # 6 columns evenly divides both 2 & 3\n",
    "plt.subplots_adjust(wspace=0.1,hspace=0.25)\n",
    "\n",
    "for i in [0,1,2]:\n",
    "    for j in [0,1,2]:\n",
    "        ax=fig.add_subplot(spec[i,j])\n",
    "        dfn,z,gal,mag=random_p_z()\n",
    "        ax.plot(dfn['z'],dfn['prob'])\n",
    "        ax.axvline(z,c='k',linestyle='dashed')\n",
    "        ax.set_xlim(0,0.6)\n",
    "        ax.set_yticks([])\n",
    "        ax.set_xticks([0,0.1,0.2,0.3,0.4,0.5,0.6])\n",
    "        ax.set_title('UBERID: '+str(gal)+'   '+'$r_\\mathrm{mag}=$'+str(round(mag,2)),fontsize=15)\n",
    "        ax.set_xlabel(r'$z$')\n",
    "        ax.set_ylabel(r'$p(z)$')\n",
    "#plt.savefig('topz_examples.jpg',bbox_inches='tight',dpi=200)\n",
    "plt.show()"
   ]
  },
  {
   "cell_type": "code",
   "execution_count": null,
   "id": "380f577f",
   "metadata": {},
   "outputs": [],
   "source": [
    "np.log10(massconv(10**10.5))"
   ]
  },
  {
   "cell_type": "code",
   "execution_count": null,
   "id": "5d22993b",
   "metadata": {},
   "outputs": [],
   "source": []
  }
 ],
 "metadata": {
  "kernelspec": {
   "display_name": "Python 3 (ipykernel)",
   "language": "python",
   "name": "python3"
  },
  "language_info": {
   "codemirror_mode": {
    "name": "ipython",
    "version": 3
   },
   "file_extension": ".py",
   "mimetype": "text/x-python",
   "name": "python",
   "nbconvert_exporter": "python",
   "pygments_lexer": "ipython3",
   "version": "3.8.5"
  }
 },
 "nbformat": 4,
 "nbformat_minor": 5
}
